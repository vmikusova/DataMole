{
 "cells": [
  {
   "cell_type": "code",
   "execution_count": 16,
   "metadata": {},
   "outputs": [
    {
     "name": "stdout",
     "output_type": "stream",
     "text": [
      "  MachineId  MeasurementId  Pressure\n",
      "0     0_0_0              0       0.0\n",
      "1     0_0_0              0       0.0\n",
      "2     0_0_0              0       0.0\n",
      "3     0_0_0              0       0.0\n",
      "4     0_0_0              0       0.0\n",
      "<class 'pandas.core.frame.DataFrame'>\n",
      "RangeIndex: 18466364 entries, 0 to 18466363\n",
      "Data columns (total 3 columns):\n",
      " #   Column         Dtype  \n",
      "---  ------         -----  \n",
      " 0   MachineId      object \n",
      " 1   MeasurementId  int64  \n",
      " 2   Pressure       float64\n",
      "dtypes: float64(1), int64(1), object(1)\n",
      "memory usage: 422.7+ MB\n",
      "None\n",
      "       MeasurementId      Pressure\n",
      "count   1.846636e+07  1.846636e+07\n",
      "mean    3.398397e+03  3.338926e-01\n",
      "std     3.019365e+03  4.862787e-01\n",
      "min    -1.000000e+00  0.000000e+00\n",
      "25%    -1.000000e+00  0.000000e+00\n",
      "50%     3.179000e+03  0.000000e+00\n",
      "75%     6.277000e+03  7.017707e-01\n",
      "max     8.834000e+03  6.774464e+00\n",
      "  MachineId  MeasurementId PumpFailed SlowStart SlowEnd\n",
      "0     0_0_0              0      False     False   False\n",
      "1     0_0_1             -1        NaN       NaN     NaN\n",
      "2     0_0_2              0      False     False   False\n",
      "3     0_0_3              0       True     False   False\n",
      "4     0_1_0             -1        NaN       NaN     NaN\n",
      "       MeasurementId\n",
      "count   27385.000000\n",
      "mean     4680.456892\n",
      "std      2537.209566\n",
      "min        -1.000000\n",
      "25%      2606.000000\n",
      "50%      4783.000000\n",
      "75%      6909.000000\n",
      "max      8834.000000\n"
     ]
    }
   ],
   "source": [
    "import pandas as pd \n",
    "import zipfile\n",
    "\n",
    "### LOADING THE DATA\n",
    "\n",
    "# zip file containing all data\n",
    "zip_path = 'data.zip'\n",
    "with zipfile.ZipFile(zip_path, 'r') as zip_ref:\n",
    "    # extract all the contents of the zip file into the current directory\n",
    "    zip_ref.extractall()\n",
    "\n",
    "# loading the pressure data file\n",
    "df_pressure = pd.read_parquet('./data.parquet')\n",
    "# check if it's loaded correctly\n",
    "print(df_pressure.head())\n",
    "print(df_pressure.info())\n",
    "print(df_pressure.describe())\n",
    "\n",
    "# loading the labels file\n",
    "df_labels = pd.read_csv('./labels.csv')\n",
    "# check if it's loaded correctly\n",
    "print(df_labels.head())\n",
    "print(df_labels.describe())"
   ]
  },
  {
   "cell_type": "code",
   "execution_count": 17,
   "metadata": {},
   "outputs": [
    {
     "name": "stdout",
     "output_type": "stream",
     "text": [
      "<class 'pandas.core.frame.DataFrame'>\n",
      "RangeIndex: 18466364 entries, 0 to 18466363\n",
      "Data columns (total 3 columns):\n",
      " #   Column         Dtype  \n",
      "---  ------         -----  \n",
      " 0   MachineId      int16  \n",
      " 1   MeasurementId  int64  \n",
      " 2   Pressure       float64\n",
      "dtypes: float64(1), int16(1), int64(1)\n",
      "memory usage: 317.0 MB\n",
      "None\n",
      "<class 'pandas.core.frame.DataFrame'>\n",
      "RangeIndex: 27385 entries, 0 to 27384\n",
      "Data columns (total 5 columns):\n",
      " #   Column         Non-Null Count  Dtype \n",
      "---  ------         --------------  ----- \n",
      " 0   MachineId      27385 non-null  int16 \n",
      " 1   MeasurementId  27385 non-null  int64 \n",
      " 2   PumpFailed     26900 non-null  object\n",
      " 3   SlowStart      19300 non-null  object\n",
      " 4   SlowEnd        19300 non-null  object\n",
      "dtypes: int16(1), int64(1), object(3)\n",
      "memory usage: 909.4+ KB\n",
      "None\n"
     ]
    }
   ],
   "source": [
    "### DATA CLEANUP\n",
    "\n",
    "# encoding MachineId as categorical variable in both tables\n",
    "df_pressure['MachineId'] = df_pressure['MachineId'].astype('category').cat.codes\n",
    "df_labels['MachineId'] = df_labels['MachineId'].astype('category').cat.codes\n",
    "# checking if it was done correctly\n",
    "print(df_pressure.info())\n",
    "print(df_labels.info())"
   ]
  },
  {
   "cell_type": "code",
   "execution_count": 18,
   "metadata": {},
   "outputs": [],
   "source": [
    "### FEATURE ENGINEERING\n",
    "\n",
    "# function to create features for each measured cycle\n",
    "def create_features(group):\n",
    "    half = len(group) // 2\n",
    "    first_half = group.iloc[:half]\n",
    "    min_pressure_index = first_half['Pressure'].idxmin()\n",
    "\n",
    "    # basic statistical features - mean, standard deviation and time to min\n",
    "    features = {\n",
    "        'Pressure_mean_first_half': first_half['Pressure'].mean(),\n",
    "        'Time_to_min_pressure_first_half': min_pressure_index,\n",
    "        'Pressure_std_first_half': first_half['Pressure'].std(),\n",
    "    }\n",
    "\n",
    "    # max pressure drop in the first half\n",
    "    window_size = 5  \n",
    "    rolling_max = first_half['Pressure'].rolling(window=window_size).max()\n",
    "    rolling_min = first_half['Pressure'].rolling(window=window_size).min()\n",
    "    features['Max_pressure_drop_first_half'] = (rolling_max - rolling_min).max()\n",
    "\n",
    "    return pd.Series(features)\n"
   ]
  },
  {
   "cell_type": "code",
   "execution_count": 19,
   "metadata": {},
   "outputs": [
    {
     "name": "stdout",
     "output_type": "stream",
     "text": [
      "   MachineId  MeasurementId  Pressure_mean_first_half  \\\n",
      "0          0             -1                  0.230289   \n",
      "1          0              0                  0.605873   \n",
      "2          0            215                  0.710727   \n",
      "3          0            237                  0.977540   \n",
      "4          0            353                  0.344599   \n",
      "\n",
      "   Time_to_min_pressure_first_half  Pressure_std_first_half  \\\n",
      "0                          15396.0                 0.415121   \n",
      "1                              0.0                 0.582492   \n",
      "2                         491116.0                 0.729057   \n",
      "3                         549924.0                 0.706656   \n",
      "4                         822660.0                 0.390084   \n",
      "\n",
      "   Max_pressure_drop_first_half  \n",
      "0                      2.439888  \n",
      "1                      1.413592  \n",
      "2                      0.822092  \n",
      "3                      1.110902  \n",
      "4                      0.764820  \n",
      "   MachineId  MeasurementId PumpFailed SlowStart SlowEnd\n",
      "0          0              0      False     False   False\n",
      "1          1             -1        NaN       NaN     NaN\n",
      "2          2              0      False     False   False\n",
      "3          3              0       True     False   False\n",
      "4          4             -1        NaN       NaN     NaN\n",
      "   MachineId  MeasurementId  Pressure_mean_first_half  \\\n",
      "0          0             -1                  0.230289   \n",
      "1          0              0                  0.605873   \n",
      "2          0            215                  0.710727   \n",
      "3          0            237                  0.977540   \n",
      "4          0            353                  0.344599   \n",
      "\n",
      "   Time_to_min_pressure_first_half  Pressure_std_first_half  \\\n",
      "0                          15396.0                 0.415121   \n",
      "1                              0.0                 0.582492   \n",
      "2                         491116.0                 0.729057   \n",
      "3                         549924.0                 0.706656   \n",
      "4                         822660.0                 0.390084   \n",
      "\n",
      "   Max_pressure_drop_first_half PumpFailed SlowStart SlowEnd  \n",
      "0                      2.439888        NaN       NaN     NaN  \n",
      "1                      1.413592      False     False   False  \n",
      "2                      0.822092      False     False   False  \n",
      "3                      1.110902      False     False    True  \n",
      "4                      0.764820      False     False   False  \n"
     ]
    }
   ],
   "source": [
    "# aggregate features\n",
    "df_features = df_pressure.groupby(['MachineId', 'MeasurementId']).apply(create_features).reset_index()\n",
    "\n",
    "# check results\n",
    "print(df_features.head())\n",
    "print(df_labels.head())\n",
    "\n",
    "# merge the features and labels tables\n",
    "df_merged = pd.merge(df_features, df_labels, on=['MachineId', 'MeasurementId'], how='inner')\n",
    "\n",
    "# check results\n",
    "print(df_merged.head())"
   ]
  },
  {
   "cell_type": "code",
   "execution_count": 20,
   "metadata": {},
   "outputs": [
    {
     "name": "stdout",
     "output_type": "stream",
     "text": [
      "MachineId                            int16\n",
      "MeasurementId                        int64\n",
      "Pressure_mean_first_half           float64\n",
      "Time_to_min_pressure_first_half    float64\n",
      "Pressure_std_first_half            float64\n",
      "Max_pressure_drop_first_half       float64\n",
      "PumpFailed                          object\n",
      "SlowStart                           object\n",
      "SlowEnd                             object\n",
      "dtype: object\n",
      "MachineId                            int16\n",
      "MeasurementId                        int64\n",
      "Pressure_mean_first_half           float64\n",
      "Time_to_min_pressure_first_half    float64\n",
      "Pressure_std_first_half            float64\n",
      "Max_pressure_drop_first_half       float64\n",
      "PumpFailed                           int64\n",
      "SlowStart                           object\n",
      "SlowEnd                             object\n",
      "dtype: object\n",
      "[0 1]\n"
     ]
    }
   ],
   "source": [
    "### FURTHER DATA CLEANUP\n",
    "\n",
    "# remove rows where PumpFailed is NaN\n",
    "df_cleaned = df_merged.dropna(subset=['PumpFailed']).copy()\n",
    "\n",
    "# check the cleaned dataframe\n",
    "print(df_cleaned.dtypes)\n",
    "\n",
    "# convert PumpFailed to integer\n",
    "df_cleaned['PumpFailed'] = df_cleaned['PumpFailed'].astype(int)\n",
    "\n",
    "# check data types\n",
    "print(df_cleaned.dtypes)\n",
    "print(df_cleaned['PumpFailed'].unique())"
   ]
  },
  {
   "cell_type": "code",
   "execution_count": 21,
   "metadata": {},
   "outputs": [
    {
     "name": "stdout",
     "output_type": "stream",
     "text": [
      "MachineId                             0\n",
      "MeasurementId                         0\n",
      "Pressure_mean_first_half              0\n",
      "Time_to_min_pressure_first_half       0\n",
      "Pressure_std_first_half               0\n",
      "Max_pressure_drop_first_half          0\n",
      "PumpFailed                            0\n",
      "SlowStart                          7600\n",
      "SlowEnd                            7600\n",
      "dtype: int64\n",
      "MachineId                          0\n",
      "MeasurementId                      0\n",
      "Pressure_mean_first_half           0\n",
      "Time_to_min_pressure_first_half    0\n",
      "Pressure_std_first_half            0\n",
      "Max_pressure_drop_first_half       0\n",
      "PumpFailed                         0\n",
      "SlowStart                          0\n",
      "SlowEnd                            0\n",
      "dtype: int64\n",
      "<class 'pandas.core.frame.DataFrame'>\n",
      "Index: 19300 entries, 1 to 27384\n",
      "Data columns (total 9 columns):\n",
      " #   Column                           Non-Null Count  Dtype  \n",
      "---  ------                           --------------  -----  \n",
      " 0   MachineId                        19300 non-null  int16  \n",
      " 1   MeasurementId                    19300 non-null  int64  \n",
      " 2   Pressure_mean_first_half         19300 non-null  float64\n",
      " 3   Time_to_min_pressure_first_half  19300 non-null  float64\n",
      " 4   Pressure_std_first_half          19300 non-null  float64\n",
      " 5   Max_pressure_drop_first_half     19300 non-null  float64\n",
      " 6   PumpFailed                       19300 non-null  int64  \n",
      " 7   SlowStart                        19300 non-null  int64  \n",
      " 8   SlowEnd                          19300 non-null  int64  \n",
      "dtypes: float64(4), int16(1), int64(4)\n",
      "memory usage: 1.4 MB\n",
      "None\n"
     ]
    }
   ],
   "source": [
    "# check for missing values in each column\n",
    "missing_values = df_cleaned.isna().sum()\n",
    "print(missing_values)\n",
    "\n",
    "# drop rows where either SlowStart or SlowEnd have missing values\n",
    "df_cleaned_no_missing = df_cleaned.dropna(subset=['SlowStart', 'SlowEnd']).copy()\n",
    "\n",
    "# convert SlowStart and SlowEnd to integers\n",
    "df_cleaned_no_missing['SlowStart'] = df_cleaned_no_missing['SlowStart'].astype(int)\n",
    "df_cleaned_no_missing['SlowEnd'] = df_cleaned_no_missing['SlowEnd'].astype(int)\n",
    "\n",
    "# check the result\n",
    "print(df_cleaned_no_missing.isna().sum())\n",
    "print(df_cleaned_no_missing.info())"
   ]
  },
  {
   "cell_type": "code",
   "execution_count": 22,
   "metadata": {},
   "outputs": [],
   "source": [
    "from sklearn.model_selection import train_test_split\n",
    "\n",
    "### DATA PREPARATION FOR MODELLING\n",
    "\n",
    "# prepare the data\n",
    "X = df_cleaned_no_missing[['Pressure_mean_first_half', 'Time_to_min_pressure_first_half', 'Pressure_std_first_half', 'Max_pressure_drop_first_half', 'SlowStart', 'SlowEnd']] # features\n",
    "y = df_cleaned_no_missing['PumpFailed'] # target\n",
    "\n",
    "# split the data into training and testing sets\n",
    "X_train, X_test, y_train, y_test = train_test_split(X, y, test_size=0.2, random_state=42)"
   ]
  },
  {
   "cell_type": "code",
   "execution_count": 23,
   "metadata": {},
   "outputs": [
    {
     "data": {
      "text/html": [
       "<style>#sk-container-id-2 {color: black;}#sk-container-id-2 pre{padding: 0;}#sk-container-id-2 div.sk-toggleable {background-color: white;}#sk-container-id-2 label.sk-toggleable__label {cursor: pointer;display: block;width: 100%;margin-bottom: 0;padding: 0.3em;box-sizing: border-box;text-align: center;}#sk-container-id-2 label.sk-toggleable__label-arrow:before {content: \"▸\";float: left;margin-right: 0.25em;color: #696969;}#sk-container-id-2 label.sk-toggleable__label-arrow:hover:before {color: black;}#sk-container-id-2 div.sk-estimator:hover label.sk-toggleable__label-arrow:before {color: black;}#sk-container-id-2 div.sk-toggleable__content {max-height: 0;max-width: 0;overflow: hidden;text-align: left;background-color: #f0f8ff;}#sk-container-id-2 div.sk-toggleable__content pre {margin: 0.2em;color: black;border-radius: 0.25em;background-color: #f0f8ff;}#sk-container-id-2 input.sk-toggleable__control:checked~div.sk-toggleable__content {max-height: 200px;max-width: 100%;overflow: auto;}#sk-container-id-2 input.sk-toggleable__control:checked~label.sk-toggleable__label-arrow:before {content: \"▾\";}#sk-container-id-2 div.sk-estimator input.sk-toggleable__control:checked~label.sk-toggleable__label {background-color: #d4ebff;}#sk-container-id-2 div.sk-label input.sk-toggleable__control:checked~label.sk-toggleable__label {background-color: #d4ebff;}#sk-container-id-2 input.sk-hidden--visually {border: 0;clip: rect(1px 1px 1px 1px);clip: rect(1px, 1px, 1px, 1px);height: 1px;margin: -1px;overflow: hidden;padding: 0;position: absolute;width: 1px;}#sk-container-id-2 div.sk-estimator {font-family: monospace;background-color: #f0f8ff;border: 1px dotted black;border-radius: 0.25em;box-sizing: border-box;margin-bottom: 0.5em;}#sk-container-id-2 div.sk-estimator:hover {background-color: #d4ebff;}#sk-container-id-2 div.sk-parallel-item::after {content: \"\";width: 100%;border-bottom: 1px solid gray;flex-grow: 1;}#sk-container-id-2 div.sk-label:hover label.sk-toggleable__label {background-color: #d4ebff;}#sk-container-id-2 div.sk-serial::before {content: \"\";position: absolute;border-left: 1px solid gray;box-sizing: border-box;top: 0;bottom: 0;left: 50%;z-index: 0;}#sk-container-id-2 div.sk-serial {display: flex;flex-direction: column;align-items: center;background-color: white;padding-right: 0.2em;padding-left: 0.2em;position: relative;}#sk-container-id-2 div.sk-item {position: relative;z-index: 1;}#sk-container-id-2 div.sk-parallel {display: flex;align-items: stretch;justify-content: center;background-color: white;position: relative;}#sk-container-id-2 div.sk-item::before, #sk-container-id-2 div.sk-parallel-item::before {content: \"\";position: absolute;border-left: 1px solid gray;box-sizing: border-box;top: 0;bottom: 0;left: 50%;z-index: -1;}#sk-container-id-2 div.sk-parallel-item {display: flex;flex-direction: column;z-index: 1;position: relative;background-color: white;}#sk-container-id-2 div.sk-parallel-item:first-child::after {align-self: flex-end;width: 50%;}#sk-container-id-2 div.sk-parallel-item:last-child::after {align-self: flex-start;width: 50%;}#sk-container-id-2 div.sk-parallel-item:only-child::after {width: 0;}#sk-container-id-2 div.sk-dashed-wrapped {border: 1px dashed gray;margin: 0 0.4em 0.5em 0.4em;box-sizing: border-box;padding-bottom: 0.4em;background-color: white;}#sk-container-id-2 div.sk-label label {font-family: monospace;font-weight: bold;display: inline-block;line-height: 1.2em;}#sk-container-id-2 div.sk-label-container {text-align: center;}#sk-container-id-2 div.sk-container {/* jupyter's `normalize.less` sets `[hidden] { display: none; }` but bootstrap.min.css set `[hidden] { display: none !important; }` so we also need the `!important` here to be able to override the default hidden behavior on the sphinx rendered scikit-learn.org. See: https://github.com/scikit-learn/scikit-learn/issues/21755 */display: inline-block !important;position: relative;}#sk-container-id-2 div.sk-text-repr-fallback {display: none;}</style><div id=\"sk-container-id-2\" class=\"sk-top-container\"><div class=\"sk-text-repr-fallback\"><pre>RandomForestClassifier(class_weight=&#x27;balanced&#x27;, random_state=42)</pre><b>In a Jupyter environment, please rerun this cell to show the HTML representation or trust the notebook. <br />On GitHub, the HTML representation is unable to render, please try loading this page with nbviewer.org.</b></div><div class=\"sk-container\" hidden><div class=\"sk-item\"><div class=\"sk-estimator sk-toggleable\"><input class=\"sk-toggleable__control sk-hidden--visually\" id=\"sk-estimator-id-2\" type=\"checkbox\" checked><label for=\"sk-estimator-id-2\" class=\"sk-toggleable__label sk-toggleable__label-arrow\">RandomForestClassifier</label><div class=\"sk-toggleable__content\"><pre>RandomForestClassifier(class_weight=&#x27;balanced&#x27;, random_state=42)</pre></div></div></div></div></div>"
      ],
      "text/plain": [
       "RandomForestClassifier(class_weight='balanced', random_state=42)"
      ]
     },
     "execution_count": 23,
     "metadata": {},
     "output_type": "execute_result"
    }
   ],
   "source": [
    "from sklearn.ensemble import RandomForestClassifier\n",
    "\n",
    "### CLASSIFICATION - RANDOM FOREST\n",
    "# ensemble learning method that operates by constructing multiple decision trees during training \n",
    "# output = class that is the mode of the classes of the individual trees\n",
    "# ability to handle large datasets, robustness against overfitting, effectiveness in dealing with imbalanced classes\n",
    "# this dataset is imbalanced because in most of the cases PumpFailed is False\n",
    "# PumpFailed = True is a minority class\n",
    "# class_weight='balanced' to adjust weights inversely proportional to class frequencies - giving more importance to the PumpFailed = True class\n",
    "model = RandomForestClassifier(class_weight='balanced', random_state=42)\n",
    "model.fit(X_train, y_train)"
   ]
  },
  {
   "cell_type": "code",
   "execution_count": 24,
   "metadata": {},
   "outputs": [
    {
     "name": "stdout",
     "output_type": "stream",
     "text": [
      "Classification report:\n",
      "              precision    recall  f1-score   support\n",
      "\n",
      "           0       0.93      0.95      0.94      3444\n",
      "           1       0.49      0.39      0.43       416\n",
      "\n",
      "    accuracy                           0.89      3860\n",
      "   macro avg       0.71      0.67      0.69      3860\n",
      "weighted avg       0.88      0.89      0.88      3860\n",
      "\n",
      "Accuracy: 0.8904145077720207\n",
      "ROC AUC Score: 0.6701761145358706\n",
      "Confusion Matrix:\n",
      "[[3275  169]\n",
      " [ 254  162]]\n"
     ]
    }
   ],
   "source": [
    "from sklearn.metrics import classification_report, accuracy_score, roc_auc_score, confusion_matrix\n",
    "\n",
    "### MODEL EVALUATION\n",
    "\n",
    "# predictions on the test data\n",
    "y_pred = model.predict(X_test)\n",
    "\n",
    "# model evaluation\n",
    "print('Classification report:')\n",
    "print(classification_report(y_test, y_pred))\n",
    "print(\"Accuracy:\", accuracy_score(y_test, y_pred))\n",
    "print(\"ROC AUC Score:\", roc_auc_score(y_test, y_pred))\n",
    "print(\"Confusion Matrix:\")\n",
    "print(confusion_matrix(y_test, y_pred))\n",
    "# offers a good balance between precision and recall for the non-failure class\n",
    "# moderate performance for the failure class\n",
    "# high overall accuracy and a moderate ROC AUC score"
   ]
  },
  {
   "cell_type": "code",
   "execution_count": 25,
   "metadata": {},
   "outputs": [
    {
     "data": {
      "image/png": "[encoded data removed]",
      "text/plain": [
       "<Figure size 800x600 with 1 Axes>"
      ]
     },
     "metadata": {},
     "output_type": "display_data"
    }
   ],
   "source": [
    "from sklearn.metrics import precision_recall_curve\n",
    "import matplotlib.pyplot as plt\n",
    "\n",
    "### MODEL IMPROVEMENT\n",
    "# a lower threshold for classifying a pump failure can make the model more sensitive to failures\n",
    "\n",
    "# extracting predicted probabilities\n",
    "y_probs = model.predict_proba(X_test) \n",
    "\n",
    "# y_probs is a 2D array with probabilities for class 0 and class 1\n",
    "# we are interested in the probabilities of class 1\n",
    "y_probs_class1 = y_probs[:, 1]\n",
    "\n",
    "# calculate precision and recall for various thresholds\n",
    "precisions, recalls, thresholds = precision_recall_curve(y_test, y_probs_class1)\n",
    "\n",
    "# plot the precision-recall curve\n",
    "plt.figure(figsize=(8, 6))\n",
    "plt.plot(thresholds, precisions[:-1], \"b--\", label=\"Precision\")\n",
    "plt.plot(thresholds, recalls[:-1], \"g-\", label=\"Recall\")\n",
    "plt.xlabel(\"Threshold\")\n",
    "plt.legend(loc=\"best\")\n",
    "plt.title(\"Precision-Recall Curve\")\n",
    "plt.show()"
   ]
  },
  {
   "cell_type": "code",
   "execution_count": 26,
   "metadata": {},
   "outputs": [
    {
     "name": "stdout",
     "output_type": "stream",
     "text": [
      "Classification report:\n",
      "              precision    recall  f1-score   support\n",
      "\n",
      "           0       0.99      0.85      0.92      3444\n",
      "           1       0.44      0.95      0.60       416\n",
      "\n",
      "    accuracy                           0.86      3860\n",
      "   macro avg       0.71      0.90      0.76      3860\n",
      "weighted avg       0.93      0.86      0.88      3860\n",
      "\n",
      "Accuracy: 0.8616580310880829\n",
      "ROC AUC Score: 0.9013390065219333\n",
      "Confusion Matrix:\n",
      "[[2930  514]\n",
      " [  20  396]]\n"
     ]
    }
   ],
   "source": [
    "from sklearn.metrics import confusion_matrix\n",
    "\n",
    "# changing the threshold to maximize recall without sacrificing too much precision\n",
    "threshold = 0.2 \n",
    "\n",
    "# probabilities to binary predictions based on the new threshold\n",
    "y_pred_custom_threshold = (y_probs_class1 >= threshold).astype(int)\n",
    "\n",
    "# re-evaluation of model performance\n",
    "print('Classification report:')\n",
    "print(classification_report(y_test, y_pred_custom_threshold))\n",
    "print(\"Accuracy:\", accuracy_score(y_test, y_pred_custom_threshold))\n",
    "print(\"ROC AUC Score:\", roc_auc_score(y_test, y_pred_custom_threshold))\n",
    "print(\"Confusion Matrix:\")\n",
    "print(confusion_matrix(y_test, y_pred_custom_threshold))\n",
    "\n",
    "# significant improvement in recall for the failure class (at the expense of precision) \n",
    "# indicating its strength in identifying most of the actual failures\n",
    "# good accuracy and a high ROC AUC score"
   ]
  },
  {
   "cell_type": "code",
   "execution_count": 27,
   "metadata": {},
   "outputs": [
    {
     "name": "stdout",
     "output_type": "stream",
     "text": [
      "Index(['Pressure_mean_first_half', 'Time_to_min_pressure_first_half',\n",
      "       'Pressure_std_first_half', 'Max_pressure_drop_first_half', 'SlowStart',\n",
      "       'SlowEnd'],\n",
      "      dtype='object') [0.07388672 0.63485031 0.07257654 0.0798937  0.03743831 0.10135443]\n"
     ]
    }
   ],
   "source": [
    "# extracting the importance of different features\n",
    "feature_importances = model.feature_importances_\n",
    "features = X.columns\n",
    "\n",
    "# looking at them\n",
    "print(features, feature_importances)\n",
    "# model relies heavily on Time_to_min_pressure_first_half \n",
    "# and less on SlowEnd, Pressure_mean_first_half, Max_pressure_drop_first_half and Pressure_std_first_half\n",
    "# SlowStart has lower importance"
   ]
  },
  {
   "cell_type": "code",
   "execution_count": 28,
   "metadata": {},
   "outputs": [
    {
     "name": "stdout",
     "output_type": "stream",
     "text": [
      "Classification Report:\n",
      "              precision    recall  f1-score   support\n",
      "\n",
      "           0       1.00      0.72      0.84      3444\n",
      "           1       0.30      1.00      0.46       416\n",
      "\n",
      "    accuracy                           0.75      3860\n",
      "   macro avg       0.65      0.86      0.65      3860\n",
      "weighted avg       0.92      0.75      0.80      3860\n",
      "\n",
      "Accuracy: 0.7518134715025907\n",
      "ROC AUC Score: 0.8609915237201823\n",
      "Confusion Matrix:\n",
      "[[2486  958]\n",
      " [   0  416]]\n"
     ]
    }
   ],
   "source": [
    "from sklearn.svm import SVC\n",
    "from sklearn.metrics import classification_report, accuracy_score, roc_auc_score, confusion_matrix\n",
    "\n",
    "### TRYING A PENALIZED SVM CLASSIFIER\n",
    "# penalized svm - powerful, versatile, and capable of performing linear or nonlinear classification\n",
    "# strength in high-dimensional spaces, effectiveness in classification tasks with clear margin of separation\n",
    "# ability to handle imbalanced datasets by penalizing misclassifications of the minority class \n",
    "\n",
    "# SVM classifier with balanced class weights\n",
    "svm_model = SVC(class_weight='balanced', probability=True, random_state=42)\n",
    "\n",
    "# train the model on the training data\n",
    "svm_model.fit(X_train, y_train)\n",
    "\n",
    "### MODEL EVALUATION\n",
    "\n",
    "# predictions on test data\n",
    "y_pred = svm_model.predict(X_test)\n",
    "\n",
    "# evaluating the model\n",
    "print(\"Classification Report:\")\n",
    "print(classification_report(y_test, y_pred))\n",
    "print(\"Accuracy:\", accuracy_score(y_test, y_pred))\n",
    "\n",
    "# calculating ROC AUC Score\n",
    "y_probs = svm_model.predict_proba(X_test)[:, 1]  # get probabilities for the positive class\n",
    "print(\"ROC AUC Score:\", roc_auc_score(y_test, y_probs))\n",
    "\n",
    "# confusion matrix\n",
    "print(\"Confusion Matrix:\")\n",
    "print(confusion_matrix(y_test, y_pred))\n",
    "\n",
    "# identifies all failures, but with a very high false positive rate (low precision)\n",
    "# accuracy is lower, ROC AUC score is good, indicating a decent ability to distinguish between groups"
   ]
  },
  {
   "cell_type": "code",
   "execution_count": 30,
   "metadata": {},
   "outputs": [
    {
     "data": {
      "image/png": "[encoded data removed]",
      "text/plain": [
       "<Figure size 800x600 with 1 Axes>"
      ]
     },
     "metadata": {},
     "output_type": "display_data"
    }
   ],
   "source": [
    "from sklearn.metrics import classification_report, confusion_matrix\n",
    "\n",
    "### MODEL IMPROVEMENT\n",
    "# lowering the threshold -> model extremely sensitive to detecting failures\n",
    "\n",
    "# get predicted probabilities for the test data\n",
    "y_probs = svm_model.predict_proba(X_test) \n",
    "\n",
    "# extracting probabilities for class 1 (failure)\n",
    "y_probs_class1 = y_probs[:, 1]\n",
    "\n",
    "# calculate precision and recall for various thresholds\n",
    "precisions, recalls, thresholds = precision_recall_curve(y_test, y_probs_class1)\n",
    "\n",
    "# plot the precision-recall curve\n",
    "plt.figure(figsize=(8, 6))\n",
    "plt.plot(thresholds, precisions[:-1], \"b--\", label=\"Precision\")\n",
    "plt.plot(thresholds, recalls[:-1], \"g-\", label=\"Recall\")\n",
    "plt.xlabel(\"Threshold\")\n",
    "plt.legend(loc=\"best\")\n",
    "plt.title(\"Precision-Recall Curve\")\n",
    "plt.show()"
   ]
  },
  {
   "cell_type": "code",
   "execution_count": 31,
   "metadata": {},
   "outputs": [
    {
     "name": "stdout",
     "output_type": "stream",
     "text": [
      "Classification report\n",
      "              precision    recall  f1-score   support\n",
      "\n",
      "           0       1.00      0.74      0.85      3444\n",
      "           1       0.32      1.00      0.48       416\n",
      "\n",
      "    accuracy                           0.77      3860\n",
      "   macro avg       0.66      0.87      0.67      3860\n",
      "weighted avg       0.93      0.77      0.81      3860\n",
      "\n",
      "Accuracy: 0.7678756476683938\n",
      "Confusion Matrix:\n",
      "[[2548  896]\n",
      " [   0  416]]\n"
     ]
    }
   ],
   "source": [
    "# define a custom threshold\n",
    "# to maximize recall without sacrificing too much precision\n",
    "threshold = 0.1\n",
    "\n",
    "# convert probabilities to class predictions based on the threshold\n",
    "y_pred_custom = (y_probs_class1 >= threshold).astype(int)\n",
    "\n",
    "# print the classification report for the new predictions\n",
    "print('Classification report')\n",
    "print(classification_report(y_test, y_pred_custom))\n",
    "\n",
    "# accuracy \n",
    "print(\"Accuracy:\", accuracy_score(y_test, y_pred_custom))\n",
    "\n",
    "# confusion matrix\n",
    "print(\"Confusion Matrix:\")\n",
    "print(confusion_matrix(y_test, y_pred_custom))\n",
    "\n",
    "# achieves perfect recall for the failure class but at the cost of many false positives\n",
    "# slightly improves the recall for the non-failure class compared to the 0.5 threshold model "
   ]
  },
  {
   "cell_type": "code",
   "execution_count": 32,
   "metadata": {},
   "outputs": [
    {
     "name": "stdout",
     "output_type": "stream",
     "text": [
      "Classification Report:\n",
      "              precision    recall  f1-score   support\n",
      "\n",
      "           0       0.92      0.95      0.94      3444\n",
      "           1       0.44      0.31      0.36       416\n",
      "\n",
      "    accuracy                           0.88      3860\n",
      "   macro avg       0.68      0.63      0.65      3860\n",
      "weighted avg       0.87      0.88      0.87      3860\n",
      "\n",
      "Accuracy: 0.8823834196891192\n",
      "ROC AUC Score: 0.828952456334316\n",
      "Confusion Matrix:\n",
      "[[3276  168]\n",
      " [ 286  130]]\n"
     ]
    }
   ],
   "source": [
    "from sklearn.neighbors import KNeighborsClassifier\n",
    "from sklearn.metrics import classification_report, accuracy_score, roc_auc_score, confusion_matrix\n",
    "\n",
    "### TRYING A K-NEAREST NEIGHBOURS CLASSIFIER\n",
    "# works by finding the nearest data points in the training set to a given input \n",
    "# predicting based on these neighboring points\n",
    "# straightforward, intuitive, and non-parametric\n",
    "# reliance on feature similarity could potentially capture the underlying patterns of pump failures\n",
    "\n",
    "# create a KNN classifier\n",
    "knn_model = KNeighborsClassifier(n_neighbors=5)\n",
    "\n",
    "# train the model on the training data\n",
    "knn_model.fit(X_train, y_train)\n",
    "\n",
    "# predict on the test data\n",
    "y_pred = knn_model.predict(X_test)\n",
    "\n",
    "# evaluate the model\n",
    "print(\"Classification Report:\")\n",
    "print(classification_report(y_test, y_pred))\n",
    "print(\"Accuracy:\", accuracy_score(y_test, y_pred))\n",
    "\n",
    "# calculate ROC AUC Score\n",
    "y_probs = knn_model.predict_proba(X_test)[:, 1]  # probabilities for the positive class\n",
    "print(\"ROC AUC Score:\", roc_auc_score(y_test, y_probs))\n",
    "\n",
    "# confusion matrix\n",
    "print(\"Confusion Matrix:\")\n",
    "print(confusion_matrix(y_test, y_pred))\n",
    "\n",
    "# moderate precision and recall for both classes\n",
    "# good accuracy and a high ROC AUC score\n",
    "# isn't strong in detecting pump failures"
   ]
  },
  {
   "cell_type": "code",
   "execution_count": 33,
   "metadata": {},
   "outputs": [
    {
     "name": "stdout",
     "output_type": "stream",
     "text": [
      "Classification Report:\n",
      "              precision    recall  f1-score   support\n",
      "\n",
      "           0       0.93      0.94      0.93      3444\n",
      "           1       0.46      0.44      0.45       416\n",
      "\n",
      "    accuracy                           0.88      3860\n",
      "   macro avg       0.70      0.69      0.69      3860\n",
      "weighted avg       0.88      0.88      0.88      3860\n",
      "\n",
      "Accuracy: 0.8836787564766839\n",
      "ROC AUC Score: 0.890072897123202\n",
      "Confusion Matrix:\n",
      "[[3229  215]\n",
      " [ 234  182]]\n"
     ]
    }
   ],
   "source": [
    "from sklearn.preprocessing import StandardScaler\n",
    "\n",
    "### TRYING SCALING THE FEATURES FOR KNN\n",
    "# scaling the data helps KNN perform better\n",
    "# it ensures that the distance metric is not influenced by features on larger scales\n",
    "\n",
    "# scale the features\n",
    "scaler = StandardScaler()\n",
    "X_train_scaled = scaler.fit_transform(X_train)\n",
    "X_test_scaled = scaler.transform(X_test)\n",
    "\n",
    "# create and train KNN on the scaled data\n",
    "knn_model = KNeighborsClassifier(n_neighbors=5)\n",
    "knn_model.fit(X_train_scaled, y_train)\n",
    "\n",
    "# predict\n",
    "y_pred = knn_model.predict(X_test_scaled)\n",
    "\n",
    "# evaluate the model\n",
    "print(\"Classification Report:\")\n",
    "print(classification_report(y_test, y_pred))\n",
    "print(\"Accuracy:\", accuracy_score(y_test, y_pred))\n",
    "\n",
    "# ROC AUC score\n",
    "y_probs = knn_model.predict_proba(X_test_scaled)[:, 1]  # probabilities for the positive class\n",
    "print(\"ROC AUC Score:\", roc_auc_score(y_test, y_probs))\n",
    "\n",
    "# confusion matrix\n",
    "print(\"Confusion Matrix:\")\n",
    "print(confusion_matrix(y_test, y_pred))\n",
    "\n",
    "# improved performance compared to KNN on unscaled data, especially in ROC AUC score\n",
    "# slightly better capability in identifying failures\n",
    "\n",
    "### CONCLUSION\n",
    "# Each model has its strengths and weaknesses. \n",
    "# The trade-off between recall (catching as many true failures as possible) and precision \n",
    "# (reducing false alarms) is in my opinion the trickiest part about this imbalanced dataset. \n",
    "# The choice of the best model depends on the specific requirements.\n",
    "# Especially on the relative importance of missing actual failures versus incorrect failure alarms.\n",
    "# If given more time, I would first dive deeper into advanced feature engineering, exploring ways \n",
    "# to better capture the pump failure patterns. \n",
    "# Then I'd try ensemble methods like Gradient Boosting or neural networks."
   ]
  }
 ],
 "metadata": {
  "kernelspec": {
   "display_name": "virtualenv-datamole",
   "language": "python",
   "name": "python3"
  },
  "language_info": {
   "codemirror_mode": {
    "name": "ipython",
    "version": 3
   },
   "file_extension": ".py",
   "mimetype": "text/x-python",
   "name": "python",
   "nbconvert_exporter": "python",
   "pygments_lexer": "ipython3",
   "version": "3.10.12"
  }
 },
 "nbformat": 4,
 "nbformat_minor": 2
}
